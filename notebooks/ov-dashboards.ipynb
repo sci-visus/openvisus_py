{
 "cells": [
  {
   "cell_type": "markdown",
   "metadata": {},
   "source": [
    "# Test openvisuspy dashboards\n"
   ]
  },
  {
   "cell_type": "code",
   "execution_count": null,
   "metadata": {
    "tags": []
   },
   "outputs": [],
   "source": [
    "import os,sys\n",
    "import panel as pn\n",
    "\n",
    "print(sys.executable)\n",
    "print(pn.__version__)\n",
    "pn.extension(\"ipywidgets\", \"floatpanel\",\"codeeditor\",\n",
    "             log_level=\"DEBUG\",\n",
    "             notifications=True, \n",
    "             sizing_mode=\"stretch_width\"\n",
    ")"
   ]
  },
  {
   "cell_type": "markdown",
   "metadata": {},
   "source": [
    "If you have problems running the following cell,  see # https://github.com/holoviz/holoviews/issues/4861\n",
    "  - Restart and Clear All Cells \n",
    "  - save the notebook \n",
    "  - kill jupyter lab \n",
    "  - restart"
   ]
  },
  {
   "cell_type": "code",
   "execution_count": null,
   "metadata": {
    "tags": []
   },
   "outputs": [],
   "source": [
    "button = pn.widgets.Button(name=\"Is Panel working? Click me...\")\n",
    "def onClick(evt):\n",
    "    button.name=\"Yes\"\n",
    "button.on_click(onClick)\n",
    "app=pn.Row(button)\n",
    "app.servable()"
   ]
  },
  {
   "cell_type": "markdown",
   "metadata": {},
   "source": [
    "Import and configure OpenVisus"
   ]
  },
  {
   "cell_type": "code",
   "execution_count": null,
   "metadata": {
    "tags": []
   },
   "outputs": [],
   "source": [
    "endpoint_url=\"https://maritime.sealstorage.io/api/v0/s3\"\n",
    "\n",
    "datasets={\n",
    "     \"datasets\": [\n",
    "         {\"name\":\"david\",  \"url\":\"http://atlantis.sci.utah.edu/mod_visus?dataset=david_subsampled&cached=idx\"},\n",
    "         {\"name\":\"2kbit1\", \"url\":\"http://atlantis.sci.utah.edu/mod_visus?dataset=2kbit1&cached=idx\"},\n",
    "         {\"name\":\"retina\", \"url\":\"http://atlantis.sci.utah.edu/mod_visus?dataset=rabbit&cached=idx\"},\n",
    "         {\n",
    "             \"name\":\"chess-zip\",\"url\":\"http://atlantis.sci.utah.edu:80/mod_visus?dataset=chess-zip&cached=idx\",\n",
    "             \"palette\" :\"Viridis256\", \"range-min\": -0.017141795, \"range-max\": +0.012004322,\n",
    "         },\n",
    "         {\n",
    "             \"name\":\"chess-recon\",\"url\":\"http://atlantis.sci.utah.edu:80/mod_visus?dataset=chess-recon_combined_1_2_3_fullres_zip&cached=idx\",\n",
    "             \"palette\" :\"Plasma256\", \"range-min\": -0.0014, \"range-max\": +0.0020,   \n",
    "         },\n",
    "         {\n",
    "            \"name\": \"llc2160_arco\",\"url\": f\"{endpoint_url}/utah/nasa/dyamond/mit_output/llc2160_arco/visus.idx?cached=idx& access_key=any&secret_key=any&endpoint_url={endpoint_url}\",\n",
    "            \"palette\":\"colorcet.coolwarm\", \"range-min\":-0.25256651639938354, \"range-max\":+0.3600933849811554,\n",
    "            \"timestep-delta\":10, \"timestep\": 2015, \"resolution\": -6, \n",
    "         },\n",
    "         {\n",
    "            \"name\":\"bellows\", \"url\": \"http://atlantis.sci.utah.edu/mod_visus?dataset=bellows_CT_NASA_JHochhalter&cached=idx\",\n",
    "            \"palette\":\"Greys256\", \"range-min\":0, \"range-max\":65536\n",
    "         } \n",
    "         ] + [ \n",
    "            {\n",
    "                \"name\": f\"diamond-{zone}\",   \"url\": f\"{endpoint_url}/utah/nasa/dyamond/idx_arco/face{zone}/u_face_{zone}_depth_52_time_0_10269.idx?cached=idx& access_key=any&secret_key=any&endpoint_url={endpoint_url}\",\n",
    "                \"palette\": \"Turbo256\", \"range-min\":-30.0, \"range-max\":60.0,\n",
    "                \"timestep-delta\":10, \"resolution\": -6,  \"directions\": {'Long':0, 'Lat':1, 'Depth':2},\n",
    "                \"logic-to-physic\":[(0.0,1.0), (0.0,1.0), (0.0,10.0)],               \n",
    "            }\n",
    "            for zone in range(6)\n",
    "        ] \n",
    "    }\n",
    "\n",
    "print(\"datasets defined\")"
   ]
  },
  {
   "cell_type": "code",
   "execution_count": null,
   "metadata": {
    "tags": []
   },
   "outputs": [],
   "source": [
    "import os,sys,logging,time\n",
    "import numpy as np\n",
    "\n",
    "os.environ[\"BOKEH_ALLOW_WS_ORIGIN\"]=\"*\"\n",
    "os.environ[\"BOKEH_LOG_LEVEL\"]=\"debug\"\n",
    "os.environ[\"VISUS_CPP_VERBOSE\"]=\"0\"\n",
    "os.environ[\"VISUS_NETSERVICE_VERBOSE\"]=\"0\"\n",
    "os.environ[\"VISUS_VERBOSE_DISKACCESS\"]=\"0\"\n",
    "\n",
    "sys.path.append(\"c:/projects/openvisus/build/RelWithDebInfo\")\n",
    "sys.path.append(\"c:/projects/openvisuspy/src\")\n",
    "\n",
    "from openvisuspy import Slice, SetupJupyterLogger, LoadDataset, ExecuteBoxQuery\n",
    "logger=SetupJupyterLogger(logging_level=logging.DEBUG) \n",
    "print(time.time(),\"OpenVisus imported\")"
   ]
  },
  {
   "cell_type": "markdown",
   "metadata": {},
   "source": [
    "# Show single slice of a RGB 2D dataset (David)"
   ]
  },
  {
   "cell_type": "code",
   "execution_count": null,
   "metadata": {
    "tags": []
   },
   "outputs": [],
   "source": [
    "def CreateApp():\n",
    "    view=Slice()\n",
    "    view.load(datasets)\n",
    "    return pn.Column(view.getMainLayout(),sizing_mode=\"stretch_width\",height=800)\n",
    "\n",
    "app=CreateApp()\n",
    "app.servable()"
   ]
  },
  {
   "cell_type": "markdown",
   "metadata": {},
   "source": [
    "# Example: OpenVisus API to read data"
   ]
  },
  {
   "cell_type": "code",
   "execution_count": null,
   "metadata": {
    "tags": []
   },
   "outputs": [],
   "source": [
    "llc2160_url=[it for it in datasets[\"datasets\"] if it[\"name\"]==\"llc2160_arco\"][0][\"url\"]\n",
    "db=LoadDataset(llc2160_url)\n",
    "W,H,D=db.getLogicBox()[1]\n",
    "access=db.createAccess()\n",
    "\n",
    "# get a Z slice in the middle to compute the range of the data\n",
    "endh=db.getMaxResolution()-6\n",
    "Z=D//2\n",
    "logic_box, delta, num_pixels=db.getAlignedBox([[0,0,Z],[W,H,Z]], endh, slice_dir=2)\n",
    "data=list(ExecuteBoxQuery(db, access=access, logic_box=logic_box,  endh=endh, num_refinements=1))[0]['data']\n",
    "palette_range = np.min(data)/4, np.max(data)/4  \n",
    "print(\"logic box\",W,H,D) \n",
    "print(\"palette_range\",palette_range)\n",
    "print(\"resolution\",db.getMaxResolution())"
   ]
  },
  {
   "cell_type": "code",
   "execution_count": null,
   "metadata": {},
   "outputs": [],
   "source": [
    "menu_items = [('Option A', 'a'), ('Option B', 'b'), ('Option C', 'c'), None, ('Help', 'help')]\n",
    "\n",
    "menu_button = pn.widgets.MenuButton(name='Dropdown', items=menu_items, button_type='primary')\n",
    "\n",
    "pn.Column(menu_button, height=200)"
   ]
  },
  {
   "cell_type": "code",
   "execution_count": null,
   "metadata": {},
   "outputs": [],
   "source": []
  }
 ],
 "metadata": {
  "kernelspec": {
   "display_name": "Python 3 (ipykernel)",
   "language": "python",
   "name": "python3"
  },
  "language_info": {
   "codemirror_mode": {
    "name": "ipython",
    "version": 3
   },
   "file_extension": ".py",
   "mimetype": "text/x-python",
   "name": "python",
   "nbconvert_exporter": "python",
   "pygments_lexer": "ipython3",
   "version": "3.10.0"
  },
  "vscode": {
   "interpreter": {
    "hash": "81794d4967e6c3204c66dcd87b604927b115b27c00565d3d43f05ba2f3a2cb0d"
   }
  }
 },
 "nbformat": 4,
 "nbformat_minor": 4
}
