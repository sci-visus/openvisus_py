{
 "cells": [
  {
   "cell_type": "markdown",
   "id": "109b671c-7a23-4eeb-a32a-edfd94c3e069",
   "metadata": {},
   "source": [
    "# Test pyvista\n",
    "\n",
    "This demo should work in Chrome and Firefox"
   ]
  },
  {
   "cell_type": "code",
   "execution_count": 1,
   "id": "2bf6da98-d4bf-4526-bd41-ec0caa25bc00",
   "metadata": {
    "tags": []
   },
   "outputs": [
    {
     "data": {
      "application/vnd.jupyter.widget-view+json": {
       "model_id": "65e365e1c90d4ed88d8d3e0e037eef31",
       "version_major": 2,
       "version_minor": 0
      },
      "text/plain": [
       "Widget(value='<iframe src=\"http://localhost:63513/index.html?ui=P_0x18d360daaa0_0&reconnect=auto\" class=\"pyvis…"
      ]
     },
     "metadata": {},
     "output_type": "display_data"
    }
   ],
   "source": [
    "import sys\n",
    "import pyvista as pv\n",
    "import imageio.v2 as imageio\n",
    "pl = pv.Plotter()\n",
    "vol = pl.add_volume(imageio.imread('imageio:stent.npz'))\n",
    "pl.show()"
   ]
  },
  {
   "cell_type": "code",
   "execution_count": 2,
   "id": "4367a4f7-a532-4b6a-a0c7-d50ef568e2d1",
   "metadata": {
    "tags": []
   },
   "outputs": [
    {
     "name": "stdout",
     "output_type": "stream",
     "text": [
      "\n",
      "--------------------------------------------------------------------------------\n",
      "  Date: Mon May 20 17:33:10 2024 W. Europe Daylight Time\n",
      "\n",
      "                  OS : Windows\n",
      "              CPU(s) : 16\n",
      "             Machine : AMD64\n",
      "        Architecture : 64bit\n",
      "                 RAM : 31.9 GiB\n",
      "         Environment : Jupyter\n",
      "          GPU Vendor : NVIDIA Corporation\n",
      "        GPU Renderer : GeForce GTX 660/PCIe/SSE2\n",
      "         GPU Version : 4.5.0 NVIDIA 456.71\n",
      "    MathText Support : False\n",
      "\n",
      "  Python 3.10.0 (tags/v3.10.0:b494f59, Oct  4 2021, 19:00:18) [MSC v.1929 64\n",
      "  bit (AMD64)]\n",
      "\n",
      "             pyvista : 0.43.2\n",
      "                 vtk : 9.3.0\n",
      "               numpy : 1.26.3\n",
      "          matplotlib : 3.8.2\n",
      "              scooby : 0.9.2\n",
      "               pooch : 1.8.0\n",
      "              pillow : 10.2.0\n",
      "             imageio : 2.33.1\n",
      "             IPython : 8.21.0\n",
      "            colorcet : 3.0.1\n",
      "          ipywidgets : 8.1.1\n",
      "               scipy : 1.12.0\n",
      "                tqdm : 4.66.1\n",
      "          jupyterlab : 3.6.6\n",
      "               trame : 3.5.2\n",
      "        trame_client : 2.15.0\n",
      "        trame_server : 2.16.0\n",
      "           trame_vtk : 2.8.0\n",
      "       trame_vuetify : 2.4.2\n",
      "jupyter_server_proxy : 4.1.0\n",
      "        nest_asyncio : 1.6.0\n",
      "--------------------------------------------------------------------------------\n"
     ]
    }
   ],
   "source": [
    "import pyvista as pv\n",
    "print(pv.Report())"
   ]
  },
  {
   "cell_type": "code",
   "execution_count": null,
   "id": "cba5966b-8b67-40c3-ad08-ccb0efe9c0c3",
   "metadata": {},
   "outputs": [],
   "source": []
  }
 ],
 "metadata": {
  "kernelspec": {
   "display_name": "Python 3 (ipykernel)",
   "language": "python",
   "name": "python3"
  },
  "language_info": {
   "codemirror_mode": {
    "name": "ipython",
    "version": 3
   },
   "file_extension": ".py",
   "mimetype": "text/x-python",
   "name": "python",
   "nbconvert_exporter": "python",
   "pygments_lexer": "ipython3",
   "version": "3.10.0"
  }
 },
 "nbformat": 4,
 "nbformat_minor": 5
}
