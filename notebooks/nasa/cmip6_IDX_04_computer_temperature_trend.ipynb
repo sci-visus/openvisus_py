{
 "cells": [
  {
   "cell_type": "markdown",
   "id": "5a26a3fa-8d08-4c39-a788-d3fe5a239858",
   "metadata": {},
   "source": [
    "|  [National Science Data Fabric](https://nationalsciencedatafabric.org/) + [NASA Open Climate Workbench (OCW)](https://esto.nasa.gov/forums/estf2024/estf24Abstracts/lee.html) +  [WIRED Global Center](https://resilience.utah.edu/) <br> created by [Valerio Pascucci](http://cedmav.org/)   |![nsdf](https://www.sci.utah.edu/~pascucci/public/NSDF-smaller.PNG)  |![NASA](https://upload.wikimedia.org/wikipedia/commons/e/e5/NASA_logo.svg)| ![wired](https://www.sci.utah.edu/~pascucci/public/wired-logo-small.png) |\n",
    "|:---|:---:|:---:|---:|"
   ]
  },
  {
   "cell_type": "markdown",
   "id": "fe480733-1dab-4104-9c0c-b87c5b68b3a6",
   "metadata": {
    "tags": []
   },
   "source": [
    "## Uncomment the line below if any library is missing"
   ]
  },
  {
   "cell_type": "code",
   "execution_count": 1,
   "id": "19daabb1-a63f-4ace-88bc-16bee2bc9340",
   "metadata": {
    "tags": []
   },
   "outputs": [],
   "source": [
    "#!pip install --upgrade openvisuspy xarray openvisuspy  matplotlib"
   ]
  },
  {
   "cell_type": "code",
   "execution_count": 2,
   "id": "5929a3e4-cba2-4854-8e10-6f95ade55cdf",
   "metadata": {
    "tags": []
   },
   "outputs": [
    {
     "name": "stdout",
     "output_type": "stream",
     "text": [
      "VISUS_CACHE is  c:/tmp/visus-cache\n"
     ]
    }
   ],
   "source": [
    "import os,sys\n",
    "import numpy as np\n",
    "import xarray as xr\n",
    "\n",
    "sys.path.append(r\"C:\\projects\\OpenVisus\\build\\RelWithDebInfo\")\n",
    "sys.path.append(r\"C:\\projects\\openvisuspy\\src\")\n",
    "import openvisuspy as ovp\n",
    "import OpenVisus as ov\n",
    "from openvisuspy.create_netcdf_metadata import create_netcdf_metadata\n",
    "from openvisuspy.xarray_backend import OpenVisusBackendEntrypoint\n",
    "\n",
    "os.environ[\"VISUS_CACHE\"]=os.environ.get(\"VISUS_CACHE\",\"./visus_cache_can_be_erased\")\n",
    "print(\"VISUS_CACHE is \",os.environ[\"VISUS_CACHE\"])\n",
    "\n",
    "# if you want interactive plots\n",
    "use_plotly=True \n",
    "\n",
    "# //////////////////////////////////////////////////////////\n",
    "def ShowPlot(x, ys, ylabels=[], xaxis_title='',yaxis_title='', title=\"\"):\n",
    "    if use_plotly:\n",
    "        import plotly.graph_objects as go\n",
    "        fig = go.Figure()\n",
    "        for y,label in zip(ys,ylabels):\n",
    "            fig.add_trace(go.Scatter(x=x,y=y,name=label))\n",
    "        fig.update_layout(title=title,xaxis_title=xaxis_title,yaxis_title=yaxis_title, height=800, legend=dict( yanchor=\"top\", y=0.99,  xanchor=\"left\", x=0.01))\n",
    "        fig.layout.dragmode='pan'\n",
    "        fig.show(config=dict({'scrollZoom': True,'displayModeBar': False}))\n",
    "    else:\n",
    "        fig, ax = plt.subplots()\n",
    "        for y,label in zip(ys,ylabels):\n",
    "            ax.plot(x, y , label = label)\n",
    "        ax.legend() \n",
    "        ax.set(xlabel=xaxis_title, ylabel=yaxis_title, title=title)\n",
    "        ax.grid()\n",
    "        plt.show()\n"
   ]
  },
  {
   "cell_type": "code",
   "execution_count": null,
   "id": "3d5862ca-7293-4147-8e63-3e5dcfbf07ed",
   "metadata": {
    "tags": []
   },
   "outputs": [],
   "source": [
    "import matplotlib.pyplot as plt\n",
    "import numpy as np\n",
    "import time\n",
    "from tqdm.notebook import tqdm\n",
    "from datetime import datetime, timedelta\n",
    "\n",
    "# run multiple threads\n",
    "from tqdm.contrib.concurrent import thread_map\n",
    "\n",
    "variables = {\n",
    "    \"hurs\":    \"Near-Surface Relative Humidity\",\n",
    "    \"huss\":    \"Near-Surface Specific Humidity\",\n",
    "    \"pr\":      \"Precipitation\",\n",
    "    \"rlds\" :   \"Surface Downwelling Longwave Radiation\",\n",
    "    \"rsds\":    \"Surface Downwelling Shortwave Radiation\",\n",
    "    \"sfcWind\": \"Daily-Mean Near-Surface Wind Speed\",\n",
    "    \"tas\":     \"Daily Near-Surface Air Temperature\",\n",
    "    \"tasmax\":  \"Daily Maximum Near-Surface Air Temperature\",\n",
    "    \"tasmin\":  \"Daily Minimum Near-Surface Air Temperature\"\n",
    "}\n",
    "\n",
    "# configure as needed\n",
    "variable = \"tas\"\n",
    "db_hist =ov.LoadDataset(f'http://atlantis.sci.utah.edu/mod_visus?dataset={variable}_day_ACCESS-CM2_historical_r1i1p1f1_gn&cached=arco')\n",
    "db_model=ov.LoadDataset(f\"http://atlantis.sci.utah.edu/mod_visus?dataset={variable}_day_ACCESS-CM2_ssp585_r1i1p1f1_gn&cached=arco\")\n",
    "years=list(range(1950,2100))\n",
    "days=[202, 356]\n",
    "qualities=[0,-2,-4,-6,-8,-10] # Lower the quality until it goes too far\n",
    "\n",
    "# //////////////////////////////////////////////////////////\n",
    "for day in days:\n",
    "    ys,ylabels=[],[]\n",
    "    for quality in qualities:\n",
    "        t0 = time.time()\n",
    "        data=db_hist.read(quality=quality) # here always history?\n",
    "        num_vals = (data.size)- np.isnan(data).sum()\n",
    "        def GetTemperature(year):\n",
    "            db=db_hist if year<2015 else db_model\n",
    "            data=db.read(time=year*365+day ,quality=quality)\n",
    "            return np.nansum(data)/num_vals-273.15\n",
    "        y=thread_map(GetTemperature, years, desc=f\"day={day}/quality={quality}   \")\n",
    "        ys.append(y)\n",
    "        ylabels.append(f\"reductions={1/2**(-1*quality):.02%} seconds={time.time()-t0:.02f}%\")\n",
    "        \n",
    "    day_name=(datetime(year=2015, month=1, day=1) + timedelta(days=day)).strftime('%d %B')\n",
    "    ShowPlot(x=years, ys=ys, ylabels=ylabels, xaxis_title='year', yaxis_title='temperature (C)', title=f\"{variable}/{day_name}\")\n"
   ]
  },
  {
   "cell_type": "code",
   "execution_count": null,
   "id": "339ca570-45ff-4740-be0b-896b23203b8c",
   "metadata": {},
   "outputs": [],
   "source": []
  }
 ],
 "metadata": {
  "kernelspec": {
   "display_name": "Python 3 (ipykernel)",
   "language": "python",
   "name": "python3"
  },
  "language_info": {
   "codemirror_mode": {
    "name": "ipython",
    "version": 3
   },
   "file_extension": ".py",
   "mimetype": "text/x-python",
   "name": "python",
   "nbconvert_exporter": "python",
   "pygments_lexer": "ipython3",
   "version": "3.10.0"
  }
 },
 "nbformat": 4,
 "nbformat_minor": 5
}
