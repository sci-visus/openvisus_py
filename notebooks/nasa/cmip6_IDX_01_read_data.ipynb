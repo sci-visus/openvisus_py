{
 "cells": [
  {
   "cell_type": "markdown",
   "id": "5a26a3fa-8d08-4c39-a788-d3fe5a239858",
   "metadata": {},
   "source": [
    "|  [National Science Data Fabric](https://nationalsciencedatafabric.org/) + [NASA Open Climate Workbench (OCW)](https://esto.nasa.gov/forums/estf2024/estf24Abstracts/lee.html) +  [WIRED Global Center](https://resilience.utah.edu/) <br> created by [Valerio Pascucci](http://cedmav.org/)   |![nsdf](https://www.sci.utah.edu/~pascucci/public/NSDF-smaller.PNG)  |![NASA](https://upload.wikimedia.org/wikipedia/commons/e/e5/NASA_logo.svg)| ![wired](https://www.sci.utah.edu/~pascucci/public/wired-logo-small.png) |\n",
    "|:---|:---:|:---:|---:|"
   ]
  },
  {
   "cell_type": "markdown",
   "id": "fe480733-1dab-4104-9c0c-b87c5b68b3a6",
   "metadata": {
    "tags": []
   },
   "source": [
    "## Uncomment the line below if any library is missing"
   ]
  },
  {
   "cell_type": "code",
   "execution_count": 1,
   "id": "19daabb1-a63f-4ace-88bc-16bee2bc9340",
   "metadata": {
    "tags": []
   },
   "outputs": [],
   "source": [
    "#!pip install --upgrade openvisuspy numpy matplotlib"
   ]
  },
  {
   "cell_type": "code",
   "execution_count": 2,
   "id": "5929a3e4-cba2-4854-8e10-6f95ade55cdf",
   "metadata": {
    "tags": []
   },
   "outputs": [
    {
     "name": "stdout",
     "output_type": "stream",
     "text": [
      "VISUS_CACHE is  c:/tmp/visus-cache\n"
     ]
    }
   ],
   "source": [
    "import os,sys\n",
    "import numpy as np\n",
    "import matplotlib.pyplot as plt\n",
    "#Stores the OpenVisus cache in the local direcrtory \n",
    "\n",
    "#sys.path.append(r\"C:\\projects\\OpenVisus\\build\\RelWithDebInfo\")\n",
    "import OpenVisus as ov\n",
    "\n",
    "os.environ[\"VISUS_CACHE\"]=os.environ.get(\"VISUS_CACHE\",\"./visus_cache_can_be_erased\")\n",
    "print(\"VISUS_CACHE is \",os.environ[\"VISUS_CACHE\"])"
   ]
  },
  {
   "cell_type": "markdown",
   "id": "5aaabd9a-7550-4eda-937a-d7d97d467855",
   "metadata": {
    "tags": []
   },
   "source": [
    "## Load the data **`dataset_name`** into the numpy array **`data`**"
   ]
  },
  {
   "cell_type": "code",
   "execution_count": null,
   "id": "e59bb623-7161-4da2-8fcb-1dc8b15c4321",
   "metadata": {
    "tags": []
   },
   "outputs": [],
   "source": [
    "model = \"ACCESS-CM2\"\n",
    "\n",
    "variables = {\n",
    "    \"hurs\":    \"Near-Surface Relative Humidity\",\n",
    "    \"huss\":    \"Near-Surface Specific Humidity\",\n",
    "    \"pr\":      \"Precipitation\",\n",
    "    \"rlds\" :   \"Surface Downwelling Longwave Radiation\",\n",
    "    \"rsds\":    \"Surface Downwelling Shortwave Radiation\",\n",
    "    \"sfcWind\": \"Daily-Mean Near-Surface Wind Speed\",\n",
    "    \"tas\":     \"Daily Near-Surface Air Temperature\",\n",
    "    \"tasmax\":  \"Daily Maximum Near-Surface Air Temperature\",\n",
    "    \"tasmin\":  \"Daily Minimum Near-Surface Air Temperature\"\n",
    "}\n",
    "\n",
    "variable  = \"tas\" \n",
    "\n",
    "year = 2020 \n",
    "# 2015 is the year whne the data switches from historical to simulated\n",
    "scenario = \"historical\" if year < 2015 else \"ssp585\"\n",
    "\n",
    "# Open (connect to) dataset\n",
    "dataset_name = f\"{variable}_day_{model}_{scenario}_r1i1p1f1_gn\"\n",
    "db = ov.LoadDataset(f\"http://atlantis.sci.utah.edu/mod_visus?dataset={dataset_name}&cached=arco\")\n",
    "\n",
    "# Corresponds to July 21. See https://nsidc.org/data/user-resources/help-center/day-year-doy-calendar\n",
    "day_of_the_year = 202 \n",
    "timestep =year*365 + day_of_the_year\n",
    "quality = 0  # 0 = load full resolution (-4 coarse, -8 coarser)\n",
    "data=db.read(time=timestep,quality=quality) #load anta in a numpy array\n",
    "np.info(data) # print array information"
   ]
  },
  {
   "cell_type": "markdown",
   "id": "10728a98-a616-403f-a126-51c218da541d",
   "metadata": {},
   "source": [
    "## Plot the data if you like"
   ]
  },
  {
   "cell_type": "code",
   "execution_count": null,
   "id": "465c0f7c-d871-43ff-988c-74de52e83bea",
   "metadata": {
    "tags": []
   },
   "outputs": [],
   "source": [
    "my_cmap = 'Oranges'\n",
    "plt.imshow(np.flip(data, 0), cmap=my_cmap) # matplotlib puts the origin on the top left instead of bottom left\n",
    "plt.show()"
   ]
  },
  {
   "cell_type": "code",
   "execution_count": null,
   "id": "6a923c7f-6256-4921-8ccd-a3176a69c085",
   "metadata": {},
   "outputs": [],
   "source": []
  }
 ],
 "metadata": {
  "kernelspec": {
   "display_name": "Python 3 (ipykernel)",
   "language": "python",
   "name": "python3"
  },
  "language_info": {
   "codemirror_mode": {
    "name": "ipython",
    "version": 3
   },
   "file_extension": ".py",
   "mimetype": "text/x-python",
   "name": "python",
   "nbconvert_exporter": "python",
   "pygments_lexer": "ipython3",
   "version": "3.10.0"
  }
 },
 "nbformat": 4,
 "nbformat_minor": 5
}
