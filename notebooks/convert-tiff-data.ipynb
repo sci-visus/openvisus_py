{
 "cells": [
  {
   "cell_type": "markdown",
   "metadata": {},
   "source": [
    "![nsdf](https://www.sci.utah.edu/~pascucci/public/NSDF-large.png)  \n",
    "[National Science Data Fabric](https://nationalsciencedatafabric.org/) \n",
    "\n",
    "# Converting TIFF  data \n"
   ]
  },
  {
   "cell_type": "code",
   "execution_count": null,
   "metadata": {},
   "outputs": [],
   "source": [
    "import os,sys,glob,argparse,time\n",
    "import numpy as np\n",
    "from matplotlib import pyplot as plt\n",
    "from skimage import io\n",
    "\n",
    "import os,sys\n",
    "\n",
    "# sys.path.append(r\"C:\\projects\\OpenVisus\\build\\RelWithDebInfo\")\n",
    "# sys.path.append(r\"C:\\projects\\openvisuspy\\src\")\n",
    "\n",
    "import OpenVisus as ov\n",
    "import logging\n",
    "os.environ[\"VISUS_DISABLE_WRITE_LOCK\"]=\"1\"\n",
    "logger= logging.getLogger(\"OpenVisus\")\n",
    "\n",
    "# uncomment for debugging\n",
    "# ov.SetupLogger(logger, output_stdout=True) \n",
    "print(\"OpenVisus imported\")\n",
    "\n",
    "# ///////////////////////////////////////////////////////////////\n",
    "def ShowImage(img):\n",
    "    \"\"\"\n",
    "    Utility to show an image using matplot lib\n",
    "    \"\"\"\n",
    "    print(\"dtype\",img.dtype,\"shape\",img.shape,\"m\",np.min(img),\"M\",np.max(img))\n",
    "    fig = plt.figure()\n",
    "    fig.set_size_inches(18.5, 10.5)\n",
    "\n",
    "    ax = fig.add_subplot(1, 2, 1) # nrows, ncols, index\n",
    "    imgplot = plt.imshow(img)\n",
    "\n",
    "    plt.colorbar(orientation='horizontal')\n",
    "\n",
    "    # sho historgram\n",
    "    ax = fig.add_subplot(1, 2, 2)\n",
    "    histogram, bin_edges = np.histogram(img, bins=256, range=(np.min(img), np.max(img)))\n",
    "    plt.title(\"Histogram\")\n",
    "    plt.xlabel(\"value\")\n",
    "    plt.ylabel(\"pixel count\")\n",
    "    plt.xlim([np.min(img), np.max(img)])\n",
    "    plt.plot(bin_edges[0:-1], histogram)\n"
   ]
  },
  {
   "cell_type": "markdown",
   "metadata": {},
   "source": [
    "# Donwload a TIFF stack \n",
    "\n",
    "NOTE: **it's 4GB file** and will take a lot to download and unzip"
   ]
  },
  {
   "cell_type": "code",
   "execution_count": null,
   "metadata": {},
   "outputs": [],
   "source": [
    "filenames=list(sorted(glob.glob(\"/mnt/data/chess/assets/image-stack/*.tif\")))\n",
    "if not filenames:\n",
    "\n",
    "    from openvisuspy.utils import DownloadObject\n",
    "    DownloadObject(\"s3://utah/assets/image-stack.zip\", \"/mnt/data/chess/assets/image-stack.zip\")\n",
    "\n",
    "    import zipfile\n",
    "    with zipfile.ZipFile(\"/mnt/data/chess/assets/image-stack.zip\", 'r') as zip_ref:\n",
    "        zip_ref.extractall(\"/mnt/data/chess/assets/\")\n",
    "    filenames=list(sorted(glob.glob(\"/mnt/data/chess/assets/image-stack/*.tif\")))\n",
    "\n",
    "D=len(filenames)\n",
    "assert(D)\n",
    "img = io.imread(filenames[D//2])\n",
    "H,W=img.shape\n",
    "print(\"W\",W,\"H\",H,\"D\",D,\"dtype\",img.dtype)\n",
    "ShowImage(np.clip(img, 0, 70))"
   ]
  },
  {
   "cell_type": "markdown",
   "metadata": {},
   "source": [
    "# Create the IDX file"
   ]
  },
  {
   "cell_type": "code",
   "execution_count": null,
   "metadata": {},
   "outputs": [],
   "source": [
    "idx_filename=\"./remove-me/image-stack/visus.idx\"\n",
    "\n",
    "# ************ dangerous (make sure you are in a tmp directory) ************ \n",
    "import os,sys,shutil\n",
    "assert('remove-me' in idx_filename)\n",
    "shutil.rmtree(os.path.dirname(idx_filename), ignore_errors=True)\n",
    "\n",
    "fields=[ov.Field(\"data\",str(img.dtype),\"row_major\")]\n",
    "db=ov.CreateIdx(\n",
    "\turl=idx_filename,\n",
    "\tdims=[W,H,D],\n",
    "\tfields=fields,\n",
    "\tcompression=\"raw\")\n",
    "\n",
    "print(type(db))\n",
    "print(db.getDatasetBody().toString())"
   ]
  },
  {
   "cell_type": "markdown",
   "metadata": {},
   "source": [
    "# Write data to OpenVisus"
   ]
  },
  {
   "cell_type": "code",
   "execution_count": null,
   "metadata": {},
   "outputs": [],
   "source": [
    "def generateSlices():\n",
    "    for Z in range(D): \n",
    "        # print(f\"Writing {Z}/{D}...\")\n",
    "        yield io.imread(filenames[Z])\n",
    "\n",
    "t1 = time.time()\n",
    "db.writeSlabs(generateSlices())\n",
    "print(f\"db.write done in {time.time() - t1} seconds\")"
   ]
  },
  {
   "cell_type": "markdown",
   "metadata": {},
   "source": [
    "# Show OpenVisus data"
   ]
  },
  {
   "cell_type": "code",
   "execution_count": null,
   "metadata": {},
   "outputs": [],
   "source": [
    "Z=D//2\n",
    "slice=db.read(x=[0,W],y=[0,H],z=[Z,Z+1], num_refinements=1)[0,:,:]\n",
    "print(slice.shape,slice.dtype)\n",
    "ShowImage(np.clip(slice, 0, 70))"
   ]
  },
  {
   "cell_type": "code",
   "execution_count": null,
   "metadata": {},
   "outputs": [],
   "source": []
  }
 ],
 "metadata": {
  "kernelspec": {
   "display_name": "Python 3 (ipykernel)",
   "language": "python",
   "name": "python3"
  },
  "language_info": {
   "codemirror_mode": {
    "name": "ipython",
    "version": 3
   },
   "file_extension": ".py",
   "mimetype": "text/x-python",
   "name": "python",
   "nbconvert_exporter": "python",
   "pygments_lexer": "ipython3",
   "version": "3.10.0"
  }
 },
 "nbformat": 4,
 "nbformat_minor": 4
}
