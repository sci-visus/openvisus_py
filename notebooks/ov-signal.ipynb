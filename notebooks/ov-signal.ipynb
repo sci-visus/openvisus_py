{
 "cells": [
  {
   "cell_type": "code",
   "execution_count": null,
   "id": "9360e08f-5933-47b7-b887-249e28a7667f",
   "metadata": {
    "tags": []
   },
   "outputs": [],
   "source": [
    "import numpy as np\n",
    "import os,sys\n",
    "import shutil\n",
    "\n",
    "sys.path.append(r\"C:\\projects\\OpenVisus\\build\\RelWithDebInfo\")\n",
    "import OpenVisus as ov\n",
    "\n",
    "sys.path.append(r\"C:\\projects\\openvisuspy\\src\")\n",
    "import openvisuspy as ovy\n",
    "\n",
    "os.environ[\"VISUS_VERBOSE_DISKACCESS\"]=\"0\"\n",
    "os.environ[\"VISUS_CPP_VERBOSE\"]=\"0\"\n",
    "\n",
    "# since I am the only one writing...\n",
    "os.environ[\"VISUS_DISABLE_WRITE_LOCK\"]=\"1\"\n",
    "\n",
    "GB=1024*1024*1024\n",
    "memsize=8*GB\n",
    "N=memsize//8\n",
    "print(f\"N={N:,}\")\n",
    "\n",
    "signal = np.random.uniform(low=0.0,high=1.0,size=[N])\n",
    "print(\"NUMPY dtype\",signal.dtype,\"shape\",signal.shape,\"vmin\",np.min(signal),\"vmax\",np.max(signal))\n",
    "\n",
    "idx_filename=r'D:/visus-datasets/signal1d/visus.idx'\n",
    "shutil.rmtree(os.path.dirname(idx_filename), ignore_errors=True)\n",
    "db=ov.CreateIdx(url=idx_filename, dims=[N],fields=[ov.Field('data',ov.convert_dtype(signal.dtype),'row_major')], compression=\"raw\", arco=f\"{1024*1024}\")\n",
    "assert(os.path.isfile(idx_filename))\n",
    "\n",
    "logic_box=logic_box=ov.BoxNi(ov.PointNi([0]),ov.PointNi([N]))\n",
    "db.write(signal,  logic_box=logic_box)\n",
    "print(\"IDX write uncompressed done\",\"logic_box\",logic_box.toString())\n",
    "\n",
    "# use the python version\n",
    "db=ov.LoadDataset(idx_filename)\n",
    "db.compressDataset(\"zip\") \n",
    "print(\"compress dataset done\")\n",
    "\n",
    "data=db.read(logic_box=logic_box)\n",
    "print(\"IDX read done\",\"dtype\",data.dtype,\"shape\",data.shape,\"vmin\",np.min(data),\"vmax\",np.max(data))\n",
    "assert(list(data.shape)==[N])\n",
    "assert(np.min(data)==np.min(signal))\n",
    "assert(np.max(data)==np.max(signal))\n",
    "assert(data.dtype==signal.dtype)"
   ]
  },
  {
   "cell_type": "code",
   "execution_count": null,
   "id": "169a98d5-7548-4343-b8cf-889d2638a4b2",
   "metadata": {
    "tags": []
   },
   "outputs": [],
   "source": [
    "import matplotlib.pyplot as plt\n",
    "\n",
    "def ShowSignal(data):\n",
    "    fig, ax = plt.subplots()\n",
    "    ax.plot(np.arange(data.shape[0]), data)\n",
    "    my_cmap = plt.get_cmap(\"viridis\")\n",
    "    plt.show()\n",
    "    \n",
    "logic_box=db.getLogicBox()\n",
    "print(\"logic_box\",logic_box)\n",
    "print(\"db.getMaxResolution()\",db.getMaxResolution())\n",
    "\n",
    "resolution=8\n",
    "data=db.read(logic_box=logic_box, max_resolution=resolution)\n",
    "print(f\"IDX read done dtype={data.dtype} shape={data.shape} vmin={np.min(data)} vmax={np.max(data)}\")\n",
    "ShowSignal(data)"
   ]
  },
  {
   "cell_type": "markdown",
   "id": "aacae798-fcb2-4ac7-9c7c-990e4fee9191",
   "metadata": {
    "tags": []
   },
   "source": [
    "Copy blocks to S3. For example:\n",
    "\n",
    "```\n",
    "\n",
    "python -m pip install --quiet awscli-plugin-endpoint\n",
    "aws s3 sync --deub --endpoint-url https://maritime.sealstorage.io/api/v0/s3 --profile sealstorage --size-only  /mnt/d/visus-datasets/signal1d/ s3://utah/visus-datasets/signal1d/\n",
    "```\n"
   ]
  },
  {
   "cell_type": "code",
   "execution_count": null,
   "id": "21a5cf75-212b-484c-bc87-d73d7633dd2d",
   "metadata": {},
   "outputs": [],
   "source": []
  }
 ],
 "metadata": {
  "kernelspec": {
   "display_name": "Python 3 (ipykernel)",
   "language": "python",
   "name": "python3"
  },
  "language_info": {
   "codemirror_mode": {
    "name": "ipython",
    "version": 3
   },
   "file_extension": ".py",
   "mimetype": "text/x-python",
   "name": "python",
   "nbconvert_exporter": "python",
   "pygments_lexer": "ipython3",
   "version": "3.10.0"
  }
 },
 "nbformat": 4,
 "nbformat_minor": 5
}
