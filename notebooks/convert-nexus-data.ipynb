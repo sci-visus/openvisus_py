{
 "cells": [
  {
   "cell_type": "markdown",
   "metadata": {},
   "source": [
    "![nsdf](https://www.sci.utah.edu/~pascucci/public/NSDF-large.png)  \n",
    "[National Science Data Fabric](https://nationalsciencedatafabric.org/) \n",
    "\n",
    "# Converting Nexus data \n"
   ]
  },
  {
   "cell_type": "code",
   "execution_count": null,
   "metadata": {},
   "outputs": [],
   "source": [
    "import os ,sys, time, logging,shutil,copy\n",
    "from datetime import datetime\n",
    "import numpy as np\n",
    "\n",
    "#sys.path.append(\"C:/projects/OpenVisus/build/RelWithDebInfo\")\n",
    "#sys.path.append(\"C:/projects/openvisuspy/src\")\n",
    "\n",
    "import OpenVisus as ov\n",
    "import openvisuspy\n",
    "os.environ[\"VISUS_DISABLE_WRITE_LOCK\"]=\"1\"\n",
    "logger= logging.getLogger(\"OpenVisus\")\n",
    "\n",
    "# uncomment for debugging\n",
    "# ov.SetupLogger(logger, stream=True)\n",
    "\n",
    "print(\"OpenVisus imported\")"
   ]
  },
  {
   "cell_type": "markdown",
   "metadata": {},
   "source": [
    "I need a Nexus file.\n",
    "\n",
    "I can download from the cloud NOTE: **it's 1.5GB file** and will take a lot to download"
   ]
  },
  {
   "cell_type": "code",
   "execution_count": null,
   "metadata": {},
   "outputs": [],
   "source": [
    "from nexusformat.nexus import * \n",
    "from nexusformat.nexus.tree import NX_CONFIG \n",
    "\n",
    "# alllow data to be 16000MB (i.e. 16GB)\n",
    "NX_CONFIG['memory']=16000 \n",
    "\n",
    "local_nexus_filename=\"/mnt/data/chess/assets/3scans_HKLI.nxs\"\n",
    "\n",
    "from openvisuspy.utils import DownloadObject\n",
    "DownloadObject( \"s3://utah/assets/3scans_HKLI.h5\",local_nexus_filename)\n",
    "\n",
    "nx=nxload(local_nexus_filename)\n",
    "print(local_nexus_filename,\"loaded\")"
   ]
  },
  {
   "cell_type": "markdown",
   "metadata": {},
   "source": [
    "# Using nexus `tree` to traverse the file"
   ]
  },
  {
   "cell_type": "code",
   "execution_count": null,
   "metadata": {},
   "outputs": [],
   "source": [
    "from pprint import pprint\n",
    "pprint(nx.tree)"
   ]
  },
  {
   "cell_type": "markdown",
   "metadata": {},
   "source": [
    "# Using openviuspy to traverse the file"
   ]
  },
  {
   "cell_type": "code",
   "execution_count": null,
   "metadata": {},
   "outputs": [],
   "source": [
    "from openvisuspy.convert_nexus import ConvertNexus\n",
    "ConvertNexus.print(nx)"
   ]
  },
  {
   "cell_type": "markdown",
   "metadata": {},
   "source": [
    "# Example of plot with proper names/limits"
   ]
  },
  {
   "cell_type": "code",
   "execution_count": null,
   "metadata": {},
   "outputs": [],
   "source": [
    "import numpy as np\n",
    "import matplotlib.pyplot as plt\n",
    "import matplotlib.colors as colors\n",
    "\n",
    "def ShowSlice(nxdata, A=None, img=None, figsize=(8, 8), cmap=\"viridis\", log=True):\n",
    "\n",
    "    # all this part is Nexus specific to find\n",
    "    # - axis names\n",
    "    # - physical coordinates\n",
    "    if True:\n",
    "        axis=[nxdata[it] for it in nxdata.attrs[\"axes\"]]\n",
    "        assert(all([isinstance(it,NXfield) for it in axis]))\n",
    "        H,K,L=axis\n",
    "        \n",
    "        signal=nxdata[nxdata.attrs[\"signal\"]]\n",
    "        assert(isinstance(signal,NXfield))\n",
    "        \n",
    "        print(f\"Nexus load done dtype={signal.dtype} shape={signal.shape}\")\n",
    "        \n",
    "        project=[ (0,1,2),  (1,0,2),  (2,0,1) ]\n",
    "        \n",
    "        # ranges are in 'physical coordinates'\n",
    "        ranges=[(axis[I].nxdata[0], axis[I].nxdata[-1]) for I in range(3)]\n",
    "        print(ranges)\n",
    "        \n",
    "        D,H,W=signal.shape\n",
    "        Y1,Y2,MY= 0, D, D//2\n",
    "        Z1,Z2,MZ= 0, H, H//2\n",
    "        X1,X2,MX= 0, W, W//2\n",
    "        \n",
    "        axis_name=axis[A].nxname\n",
    "        Z,Y,X=project[A]\n",
    "        \n",
    "        fig, ax = plt.subplots(figsize=figsize)\n",
    "        ax.set_title(axis_name)\n",
    "        \n",
    "        y1,y2=ranges[Y];ax.set_ylabel(axis[Y].nxname)\n",
    "        x1,x2=ranges[X];ax.set_xlabel(axis[X].nxname)\n",
    "\n",
    "    # todo other cases\n",
    "    assert(log) \n",
    "    vmin = np.nanmin(img[img > -np.inf])\n",
    "    vmax = np.nanmax(img[img <  np.inf])\n",
    "    \n",
    "    norm=colors.LogNorm(max(vmin, 0.01), max(vmax, 0.01))\n",
    "    pos=ax.imshow(np.flip(img,axis=0),origin=\"upper\", norm=norm, cmap=cmap,  extent=[x1,x2,y1,y2])\n",
    "    \n",
    "    ax.set_aspect('equal')\n",
    "    ax.set_xlim(x1,x2)\n",
    "    ax.set_ylim(y1,y2)\n",
    "    fig.colorbar(pos, ax=ax,location='right')\n",
    "    plt.autoscale(True)\n",
    "    plt.show()\n",
    "\n",
    "\n",
    "# find an item with axes and signal as childs\n",
    "# note: nxdata is the entry in the nexus tree containing axes and signal\n",
    "nxdata=[node for depth, node in ConvertNexus.traverse(nx) if isinstance(node,NXdata) and \"axes\" in node.attrs and \"signal\" in node.attrs][0]\n",
    "\n",
    "# X-slice\n",
    "ShowSlice(nxdata, A=0, img=nxdata[nxdata.attrs[\"signal\"]][:,:,200]) \n",
    "\n",
    "# Y slice\n",
    "ShowSlice(nxdata, A=1, img=nxdata[nxdata.attrs[\"signal\"]][:,200,:])  \n",
    "\n",
    "# Z slice\n",
    "ShowSlice(nxdata, A=2, img=nxdata[nxdata.attrs[\"signal\"]][200,:,:]) \n"
   ]
  },
  {
   "cell_type": "markdown",
   "metadata": {},
   "source": [
    "# Create a Streamable OpenVisus version"
   ]
  },
  {
   "cell_type": "code",
   "execution_count": null,
   "metadata": {},
   "outputs": [],
   "source": [
    "import os,sys\n",
    "\n",
    "t1=time.time()\n",
    "\n",
    "# binary data will be converted to the IDX file format\n",
    "local_idx_filename =\"./remove-me/streamable/3scans_HKLI/visus.idx\"\n",
    "\n",
    "# I am creating a new NEXUS file without binary data which reference OpenVISUS binary data\n",
    "# this version is called ` streamable`\n",
    "streamable_filename=\"./remove-me/streamable/3scans_HKLI/visus.nxs\"\n",
    "\n",
    "# ************ dangerous (make sure you are in a tmp directory) ************ \n",
    "import os,sys,shutil\n",
    "assert(\"remove-me\" in local_idx_filename)\n",
    "assert(\"remove-me\" in streamable_filename)\n",
    "shutil.rmtree(os.path.dirname(local_idx_filename), ignore_errors=True)\n",
    "shutil.rmtree(os.path.dirname(streamable_filename), ignore_errors=True)\n",
    "\n",
    "streamable=ConvertNexus(\n",
    "    local_nexus_filename, \n",
    "    local_idx_filename,\n",
    "    streamable=streamable_filename, \n",
    "    compression=\"raw\" # \n",
    ").run()\n",
    "\n",
    "print(f\"Created NEXUS streamable in {time.time()-t1} seconds\")"
   ]
  },
  {
   "cell_type": "markdown",
   "metadata": {},
   "source": [
    "# Show data using OpenVisus API\n",
    "\n",
    "If we use OpenVisus we don't know real physical coordinates; and we show pixels."
   ]
  },
  {
   "cell_type": "code",
   "execution_count": null,
   "metadata": {},
   "outputs": [],
   "source": [
    "def ShowOpenVisusSlice(img):\n",
    "    fig, ax = plt.subplots(figsize=(8, 8))\n",
    "    vmin = np.nanmin(img[img > -np.inf])\n",
    "    vmax = np.nanmax(img[img <  np.inf])\n",
    "    norm=colors.LogNorm(max(vmin, 0.01), max(vmax, 0.01))\n",
    "    pos=ax.imshow(np.flip(img,axis=0),origin=\"upper\", norm=norm, cmap=\"viridis\")\n",
    "    fig.colorbar(pos, ax=ax,location='right')\n",
    "    plt.autoscale(True)\n",
    "    plt.show()\n",
    "\n",
    "db=ov.LoadDataset(local_idx_filename)\n",
    "\n",
    "D,H,W=1419,1419,309\n",
    "X,Y,Z=W//2,H//2,D//2\n",
    "ShowOpenVisusSlice(db.read(x=[0,W],   y=[0,H],  z=[Z,Z+1], num_refinements=1)[0,:,:])\n",
    "ShowOpenVisusSlice(db.read(x=[0,W],   y=[Y,Y+1],z=[0,D]  , num_refinements=1)[:,0,:])\n",
    "ShowOpenVisusSlice(db.read(x=[X,X+1], y=[0,H],  z=[0,D]  , num_refinements=1)[:,:,0])"
   ]
  },
  {
   "cell_type": "markdown",
   "metadata": {},
   "source": [
    "# Show slice using streamable version\n",
    "\n",
    "The streamable version is a Nexus file (with proper metadata) without binary data.\n",
    "\n",
    "\n",
    "The binary data is stored in OpenVisus datasets. But since Nexus library **DOES NOT** support reading OpenVisus binary, here we are *internally* using OpenVisus API to read binary data."
   ]
  },
  {
   "cell_type": "code",
   "execution_count": null,
   "metadata": {},
   "outputs": [],
   "source": [
    "nx=nxload(streamable_filename)\n",
    "pprint(nx.tree)\n",
    "nxdata=[node for depth, node in ConvertNexus.traverse(nx) if isinstance(node,NXdata) and \"axes\" in node.attrs and \"signal\" in node.attrs][0]\n",
    "db=ov.LoadDataset(local_idx_filename)\n",
    "ShowSlice(nxdata, A=0, img=db.read(x=[0,W],   y=[0,H],  z=[Z,Z+1], num_refinements=1)[0,:,:]) \n",
    "ShowSlice(nxdata, A=1, img=db.read(x=[0,W],   y=[Y,Y+1],z=[0,D]  , num_refinements=1)[:,0,:])  \n",
    "ShowSlice(nxdata, A=2, img=db.read(x=[X,X+1], y=[0,H],  z=[0,D]  , num_refinements=1)[:,:,0]) "
   ]
  },
  {
   "cell_type": "code",
   "execution_count": null,
   "metadata": {},
   "outputs": [],
   "source": []
  }
 ],
 "metadata": {
  "kernelspec": {
   "display_name": "Python 3 (ipykernel)",
   "language": "python",
   "name": "python3"
  },
  "language_info": {
   "codemirror_mode": {
    "name": "ipython",
    "version": 3
   },
   "file_extension": ".py",
   "mimetype": "text/x-python",
   "name": "python",
   "nbconvert_exporter": "python",
   "pygments_lexer": "ipython3",
   "version": "3.10.0"
  }
 },
 "nbformat": 4,
 "nbformat_minor": 4
}
