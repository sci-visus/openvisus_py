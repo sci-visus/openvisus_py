{
 "cells": [
  {
   "cell_type": "markdown",
   "metadata": {},
   "source": [
    "![nsdf](https://www.sci.utah.edu/~pascucci/public/NSDF-large.png)  \n",
    "[National Science Data Fabric](https://nationalsciencedatafabric.org/) \n",
    "\n",
    "# Converting numpy data \n"
   ]
  },
  {
   "cell_type": "code",
   "execution_count": null,
   "metadata": {},
   "outputs": [],
   "source": [
    "import os ,sys, time, logging,shutil\n",
    "from datetime import datetime\n",
    "import numpy as np\n",
    "\n",
    "# sys.path.append(r\"C:\\projects\\OpenVisus\\build\\RelWithDebInfo\")\n",
    "# sys.path.append(r\"C:\\projects\\openvisuspy\\src\")\n",
    "\n",
    "# sys.path.append(r\"C:\\projects\\OpenVisus\\build\\RelWithDebInfo\")\n",
    "import OpenVisus as ov\n",
    "os.environ[\"VISUS_DISABLE_WRITE_LOCK\"]=\"1\"\n",
    "logger= logging.getLogger(\"OpenVisus\")\n",
    "\n",
    "# uncomment for debugging\n",
    "# ov.SetupLogger(logger, output_stdout=True) "
   ]
  },
  {
   "cell_type": "markdown",
   "metadata": {},
   "source": [
    "# Download a numpy file to convert\n",
    "\n",
    "NOTE: **it's 6GB file** and will take a lot to download"
   ]
  },
  {
   "cell_type": "code",
   "execution_count": null,
   "metadata": {},
   "outputs": [],
   "source": [
    "numpy_filename=\"/mnt/data/chess/assets/recon_combined_1_2_3_fullres.npy\"\n",
    "\n",
    "from openvisuspy.utils import DownloadObject\n",
    "DownloadObject(\"s3://utah/assets/recon_combined_1_2_3_fullres.npy\",numpy_filename)"
   ]
  },
  {
   "cell_type": "markdown",
   "metadata": {},
   "source": [
    "# Load the data in memory"
   ]
  },
  {
   "cell_type": "code",
   "execution_count": null,
   "metadata": {},
   "outputs": [],
   "source": [
    "t1 = time.time()\n",
    "data=np.load(numpy_filename)\n",
    "shape,dtype=data.shape,data.dtype\n",
    "D,H,W=data.shape\n",
    "m,M=np.min(data),np.max(data)\n",
    "print(f\"np.load done in {time.time()-t1} seconds \\ndtype={data.dtype} \\nshape={data.shape} \\nc_size={W*H*D*4:,} \\nm={m} M={M}\")"
   ]
  },
  {
   "cell_type": "markdown",
   "metadata": {},
   "source": [
    "# Show a slice along Z"
   ]
  },
  {
   "cell_type": "code",
   "execution_count": null,
   "metadata": {},
   "outputs": [],
   "source": [
    "import matplotlib.pyplot as plt\n",
    "from scipy import ndimage\n",
    "\n",
    "def ShowData(data,cmap=\"viridis\"):\n",
    "\tprint(\"ShowImage\",data.dtype,data.shape,np.min(data),np.max(data))\n",
    "\tplt.imshow(data, cmap=cmap)\n",
    "\tplt.colorbar()\n",
    "\tplt.show()\n",
    "\n",
    "Z=200\n",
    "slice=data[Z,:,:]\n",
    "ShowData(slice,cmap=\"viridis\") "
   ]
  },
  {
   "cell_type": "markdown",
   "metadata": {},
   "source": [
    "# Create the IDX file"
   ]
  },
  {
   "cell_type": "code",
   "execution_count": null,
   "metadata": {},
   "outputs": [],
   "source": [
    "idx_filename=\"./remove-me/example-numpy/visus.idx\"\n",
    "\n",
    "# ************ dangerous (make sure you are in a tmp directory) ************ \n",
    "import os,sys,shutil\n",
    "assert(\"remove-me\" in idx_filename)\n",
    "shutil.rmtree(os.path.dirname(idx_filename), ignore_errors=True)\n",
    "\n",
    "fields=[ov.Field(\"data\",str(data.dtype),\"row_major\")]\n",
    "db=ov.CreateIdx(\n",
    "\turl=idx_filename,\n",
    "\tdims=[W,H,D],\n",
    "\tfields=fields,\n",
    "\tcompression=\"raw\")\n",
    "\n",
    "print(db.getDatasetBody().toString())"
   ]
  },
  {
   "cell_type": "markdown",
   "metadata": {},
   "source": [
    "# Write data to OpenVisus"
   ]
  },
  {
   "cell_type": "code",
   "execution_count": null,
   "metadata": {},
   "outputs": [],
   "source": [
    "t1 = time.time()\n",
    "db.write(data)\n",
    "print(f\"db.write done in {time.time() - t1} seconds\")"
   ]
  },
  {
   "cell_type": "markdown",
   "metadata": {},
   "source": [
    "# (OPTIONAL) Compress dataset using zip\n",
    "\n",
    "Here the compression is disabled, but better to compress data in production"
   ]
  },
  {
   "cell_type": "code",
   "execution_count": null,
   "metadata": {},
   "outputs": [],
   "source": [
    "do_compress=False\n",
    "if do_compress:\n",
    "    t1 = time.time()\n",
    "    db.compressDataset([\"zip\"])\n",
    "    print(f\"db.compressDataset done in {time.time()-t1} seconds\")"
   ]
  },
  {
   "cell_type": "markdown",
   "metadata": {},
   "source": [
    "# Show OpenVisus data"
   ]
  },
  {
   "cell_type": "code",
   "execution_count": null,
   "metadata": {},
   "outputs": [],
   "source": [
    "slice=db.read(x=[0,W],y=[0,H],z=[Z,Z+1], num_refinements=1)[0,:,:]\n",
    "ShowData(slice)"
   ]
  },
  {
   "cell_type": "markdown",
   "metadata": {},
   "source": [
    "# Show coarse to fine"
   ]
  },
  {
   "cell_type": "code",
   "execution_count": null,
   "metadata": {},
   "outputs": [],
   "source": [
    "import os,sys\n",
    "num_refinements=3\n",
    "for slice in db.read(x=[0,W],y=[0,H],z=[Z,Z+1], num_refinements=num_refinements):\n",
    "\tShowData(slice[0,:,:])"
   ]
  },
  {
   "cell_type": "code",
   "execution_count": null,
   "metadata": {},
   "outputs": [],
   "source": []
  },
  {
   "cell_type": "markdown",
   "metadata": {},
   "source": []
  }
 ],
 "metadata": {
  "kernelspec": {
   "display_name": "Python 3 (ipykernel)",
   "language": "python",
   "name": "python3"
  },
  "language_info": {
   "codemirror_mode": {
    "name": "ipython",
    "version": 3
   },
   "file_extension": ".py",
   "mimetype": "text/x-python",
   "name": "python",
   "nbconvert_exporter": "python",
   "pygments_lexer": "ipython3",
   "version": "3.10.0"
  }
 },
 "nbformat": 4,
 "nbformat_minor": 4
}
